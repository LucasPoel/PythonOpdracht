{
 "cells": [
  {
   "cell_type": "code",
   "execution_count": 70,
   "metadata": {},
   "outputs": [],
   "source": [
    "import numpy as num\n",
    "import pandas as pd\n",
    "import matplotlib.pyplot as plt\n",
    "from matplotlib.backends.backend_tkagg import FigureCanvasTkAgg\n",
    "import tkinter as tk"
   ]
  },
  {
   "cell_type": "code",
   "execution_count": 71,
   "metadata": {},
   "outputs": [],
   "source": [
    "class Window(tk.Tk):\n",
    "    def __init__(self):\n",
    "        super().__init__()\n",
    "\n",
    "        self.artikelButton = tk.Button(self, text=\"verdeling van artikelen\", command=self.on_artikelButton)\n",
    "        self.consoleButton = tk.Button(self, text=\"aantal consoles per uitgave jaar\", command=self.on_consoleButton)\n",
    "        self.title(\"Game Paradise Data Visualization\")\n",
    "        self.geometry(\"400x400\")\n",
    "\n",
    "        self.artikelButton.pack()\n",
    "        self.consoleButton.pack()\n",
    "\n",
    "    def on_artikelButton(self):\n",
    "        # artikelWindow is defined in het volgende codescherm\n",
    "        ArtikelWindow(self)\n",
    "\n",
    "    def on_consoleButton(self):\n",
    "        pass\n",
    "        # ConsoleWindow(self)\n",
    "\n",
    "\n"
   ]
  },
  {
   "attachments": {},
   "cell_type": "markdown",
   "metadata": {},
   "source": [
    "hier boven maak ik de class Window. Dit is het scherm waar de applicatie op gaat starten. Op dit scherm staan 2 buttons. Deze buttons leiden naar een vervolg scherm door middel van de funties on_artikelButton() en on_consoleButton(). Ik heb voor nu gekozen om een nieuw scherm te laten open omdat dit makkelijker is om alles te testen. Daarnaast maakt dit de workflow ook makkelijker omdat je zo makkelijk kan switchen van data dat je wilt weergeven.\n",
    "\n",
    "## technieken\n",
    " - All classes have a function called __init__(), which is always executed when the class is being initiated."
   ]
  },
  {
   "cell_type": "code",
   "execution_count": 72,
   "metadata": {},
   "outputs": [],
   "source": [
    "class ArtikelWindow(tk.Toplevel):\n",
    "    def __init__(self, master):\n",
    "        super().__init__(master)\n",
    "\n",
    "        self.taartButton = tk.Button(self, text=\"Ik wil de data in een taart diagram zien!\", command=self.on_taartButton)\n",
    "        self.barButton = tk.Button(self, text=\"Ik wil de data in een bar chart zien!\", command=self.on_barButton)\n",
    "\n",
    "        self.taartButton.pack()\n",
    "        self.barButton.pack()\n",
    "\n",
    "    def on_taartButton(self):\n",
    "        fig, ax = plt.subplots()\n",
    "        labels = [\"Spellen\", \"Consoles\"]\n",
    "        colSpel = [\"TITEL\"]\n",
    "        colConsole = [\"TYPE\"]\n",
    "        dataSpel = pd.read_csv('Artikel.csv', usecols=colSpel, encoding='latin-1')\n",
    "        dataConsole = pd.read_csv('Artikel.csv', usecols=colConsole, encoding='latin-1')\n",
    "        dataConsole.dropna(inplace=True)\n",
    "        dataSpel.dropna(inplace=True)\n",
    "        val = [dataSpel.size, dataConsole.size]\n",
    "        ax.pie(val, labels = labels, startangle = 90, autopct='%1.1f%%')\n",
    "\n",
    "        ax.set_title(\"Pie chart over de verdeling van alle artikelen!\")\n",
    "\n",
    "        createWindow(fig)\n",
    "\n",
    "    def on_barButton(self):\n",
    "        fig, ax = plt.subplots()\n",
    "        labels = [\"Spellen\", \"Consoles\"]\n",
    "        colSpel = [\"TITEL\"]\n",
    "        colConsole = [\"TYPE\"]\n",
    "        dataSpel = pd.read_csv('Artikel.csv', usecols=colSpel, encoding='latin-1')\n",
    "        dataConsole = pd.read_csv('Artikel.csv', usecols=colConsole, encoding='latin-1')\n",
    "\n",
    "        dataConsole.dropna(inplace=True)\n",
    "        dataSpel.dropna(inplace=True)\n",
    "        name = [\"spel\", \"Console\"]\n",
    "        val = [dataSpel.size, dataConsole.size]\n",
    "\n",
    "        ax.bar(name, val)\n",
    "        ax.set_title(\"Bar chart over de verdeling tussen consoles en artikelen!\")\n",
    "\n",
    "        createWindow(fig)\n",
    "\n",
    "        \n"
   ]
  },
  {
   "attachments": {},
   "cell_type": "markdown",
   "metadata": {},
   "source": [
    " Toplevel is a widget that represents a top-level window. It is a container widget that can contain other widgets, and can be used to create separate windows within a Tkinter application."
   ]
  },
  {
   "cell_type": "code",
   "execution_count": 73,
   "metadata": {},
   "outputs": [
    {
     "data": {
      "image/png": "[encoded data removed]",
      "text/plain": [
       "<Figure size 640x480 with 1 Axes>"
      ]
     },
     "metadata": {},
     "output_type": "display_data"
    }
   ],
   "source": [
    "# global function\n",
    "def createWindow(figure):\n",
    "        diaFrame = tk.Tk()\n",
    "\n",
    "        canvas = FigureCanvasTkAgg(figure, diaFrame)\n",
    "        canvas.draw()\n",
    "\n",
    "        canvas.get_tk_widget().pack(side=tk.TOP, fill=tk.BOTH, expand=1)\n",
    "\n",
    "        tk.mainloop()     \n",
    "\n",
    "\n",
    "if __name__ == \"__main__\":\n",
    "    window = Window()\n",
    "    window.mainloop()"
   ]
  }
 ],
 "metadata": {
  "kernelspec": {
   "display_name": "Python 3",
   "language": "python",
   "name": "python3"
  },
  "language_info": {
   "codemirror_mode": {
    "name": "ipython",
    "version": 3
   },
   "file_extension": ".py",
   "mimetype": "text/x-python",
   "name": "python",
   "nbconvert_exporter": "python",
   "pygments_lexer": "ipython3",
   "version": "3.10.6"
  },
  "orig_nbformat": 4,
  "vscode": {
   "interpreter": {
    "hash": "369f2c481f4da34e4445cda3fffd2e751bd1c4d706f27375911949ba6bb62e1c"
   }
  }
 },
 "nbformat": 4,
 "nbformat_minor": 2
}

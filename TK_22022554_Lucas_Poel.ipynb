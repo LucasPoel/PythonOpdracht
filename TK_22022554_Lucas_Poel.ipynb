{
 "cells": [
  {
   "cell_type": "code",
   "execution_count": 19,
   "metadata": {},
   "outputs": [],
   "source": [
    "import numpy as num\n",
    "import pandas as pd\n",
    "import matplotlib.pyplot as plt\n",
    "from matplotlib.backends.backend_tkagg import FigureCanvasTkAgg\n",
    "import tkinter as tk"
   ]
  },
  {
   "attachments": {},
   "cell_type": "markdown",
   "metadata": {},
   "source": [
    "Hierboven importeer ik de volgende "
   ]
  },
  {
   "cell_type": "code",
   "execution_count": 20,
   "metadata": {},
   "outputs": [],
   "source": [
    "class App(tk.Tk):\n",
    "    def __init__(self):\n",
    "        super().__init__()\n",
    "\n",
    "        self.title(\"Game Paradise Data Visualization\")\n",
    "\n",
    "        self.usernameLabel = tk.Label(self, text=\"Vul hier uw username in:\")\n",
    "        self.usernameEntry = tk.Entry(self) \n",
    "        self.passwordLabel = tk.Label(self, text=\"Password:\")\n",
    "        self.passwordEntry = tk.Entry(self, show=\"*\")\n",
    "        self.geometry(\"400x400\")\n",
    "\n",
    "        self.loginButton = tk.Button(self, text=\"Login\", command=self.login)\n",
    "\n",
    "        self.usernameLabel.pack()\n",
    "        self.usernameEntry.pack()\n",
    "        self.passwordLabel.pack()\n",
    "        self.passwordEntry.pack()\n",
    "        self.loginButton.pack()        \n",
    "\n",
    "    def login(self):\n",
    "        # Eerst pak ik de entries.\n",
    "        self.username = self.usernameEntry.get()\n",
    "        self.password = self.passwordEntry.get()\n",
    "\n",
    "        if(self.username == \"Lucas\" and self.password == \"Welkom\"):\n",
    "            self.destroy()\n",
    "            # class Window word in het volgende codescherm gede\n",
    "            window = Window()\n",
    "            window.mainloop()\n",
    "        else:\n",
    "            self.eMessage = tk.Label(self, text=\"Error: Foute gebruikersnaam en/ of wachtwoord\", fg=\"RED\")\n",
    "            self.eMessage.pack()\n",
    "\n"
   ]
  },
  {
   "cell_type": "code",
   "execution_count": 21,
   "metadata": {},
   "outputs": [],
   "source": [
    "class Window(tk.Tk):\n",
    "    def __init__(self):\n",
    "        super().__init__()\n",
    "\n",
    "        self.artikelButton = tk.Button(self, text=\"verdeling van artikelen\", command=self.on_artikelButton)\n",
    "        self.consoleButton = tk.Button(self, text=\"aantal consoles per uitgave jaar\", command=self.on_consoleButton)\n",
    "        self.closeButton = tk.Button(self, text=\"Afsluiten\", command=self.closeSelf)\n",
    "        self.title(\"Game Paradise Data Visualization\")\n",
    "        self.geometry(\"400x400\")\n",
    "\n",
    "        self.artikelButton.pack()\n",
    "        self.consoleButton.pack()\n",
    "        self.closeButton.pack()\n",
    "\n",
    "    def on_artikelButton(self):\n",
    "        # artikelWindow is defined in het volgende codescherm\n",
    "        ArtikelWindow(self)\n",
    "\n",
    "    def on_consoleButton(self):\n",
    "        # consoleWindow is defined in het volgende codescherm\n",
    "        ConsoleWindow(self)\n",
    "    \n",
    "    def closeSelf(self):\n",
    "        self.destroy()        \n",
    "\n",
    "\n"
   ]
  },
  {
   "attachments": {},
   "cell_type": "markdown",
   "metadata": {},
   "source": [
    "hier boven maak ik de class Window. Dit is het scherm waar de applicatie op gaat starten. Op dit scherm staan 2 buttons. Deze buttons leiden naar een vervolg scherm door middel van de funties on_artikelButton() en on_consoleButton(). Ik heb voor nu gekozen om een nieuw scherm te laten open omdat dit makkelijker is om alles te testen. Daarnaast maakt dit de workflow ook makkelijker omdat je zo makkelijk kan switchen van data dat je wilt weergeven.\n",
    "\n",
    "## technieken\n",
    " - De \"__init__()\" functie word automatisch uitgevoerd zodra de class word gemaakt.\n",
    " - "
   ]
  },
  {
   "cell_type": "code",
   "execution_count": 22,
   "metadata": {},
   "outputs": [],
   "source": [
    "class ArtikelWindow(tk.Toplevel):\n",
    "    def __init__(self, master):\n",
    "        super().__init__(master)\n",
    "\n",
    "        self.taartButton = tk.Button(self, text=\"Ik wil de data in een taart diagram zien!\", command=self.on_taartButton)\n",
    "        self.barButton = tk.Button(self, text=\"Ik wil de data in een bar chart zien!\", command=self.on_barButton)\n",
    "\n",
    "        self.taartButton.pack()\n",
    "        self.barButton.pack()\n",
    "\n",
    "    def on_taartButton(self):\n",
    "        fig, ax = plt.subplots()\n",
    "        labels = [\"Spellen\", \"Consoles\"]\n",
    "        colSpel = [\"TITEL\"]\n",
    "        colConsole = [\"TYPE\"]\n",
    "        dataSpel = pd.read_csv('Artikel.csv', usecols=colSpel, encoding='latin-1')\n",
    "        dataConsole = pd.read_csv('Artikel.csv', usecols=colConsole, encoding='latin-1')\n",
    "        dataConsole.dropna(inplace=True)\n",
    "        dataSpel.dropna(inplace=True)\n",
    "        val = [dataSpel.size, dataConsole.size]\n",
    "        ax.pie(val, labels = labels, startangle = 90, autopct='%1.1f%%')\n",
    "\n",
    "        ax.set_title(\"Pie chart over de verdeling van alle artikelen!\")\n",
    "\n",
    "        # globalefunctie defined in het laatste codescherm\n",
    "        createWindow(fig)\n",
    "\n",
    "    def on_barButton(self):\n",
    "        fig, ax = plt.subplots()\n",
    "        labels = [\"Spellen\", \"Consoles\"]\n",
    "        colSpel = [\"TITEL\"]\n",
    "        colConsole = [\"TYPE\"]\n",
    "        dataSpel = pd.read_csv('Artikel.csv', usecols=colSpel, encoding='latin-1')\n",
    "        dataConsole = pd.read_csv('Artikel.csv', usecols=colConsole, encoding='latin-1')\n",
    "\n",
    "        dataConsole.dropna(inplace=True)\n",
    "        dataSpel.dropna(inplace=True)\n",
    "        name = [\"spel\", \"Console\"]\n",
    "        val = [dataSpel.size, dataConsole.size]\n",
    "\n",
    "        ax.bar(labels, val)\n",
    "        ax.set_title(\"Bar chart over de verdeling tussen consoles en artikelen!\")\n",
    "\n",
    "        # globalefunctie defined in het laatste codescherm\n",
    "        createWindow(fig)\n",
    "\n",
    "        \n"
   ]
  },
  {
   "attachments": {},
   "cell_type": "markdown",
   "metadata": {},
   "source": [
    " Toplevel is a widget that represents a top-level window. It is a container widget that can contain other widgets, and can be used to create separate windows within a Tkinter application."
   ]
  },
  {
   "cell_type": "code",
   "execution_count": 23,
   "metadata": {},
   "outputs": [],
   "source": [
    "class ConsoleWindow(tk.Toplevel):\n",
    "    def __init__(self, master):\n",
    "        super().__init__(master)\n",
    "\n",
    "        self.taartButton = tk.Button(self, text=\"Ik wil de data in een taart diagram zien!\", command=self.on_taartButton)\n",
    "        self.barButton = tk.Button(self, text=\"Ik wil de data in een bar chart zien!\", command=self.on_barButton)\n",
    "\n",
    "        self.taartButton.pack()\n",
    "        self.barButton.pack()\n",
    "        \n",
    "    def on_taartButton(self):\n",
    "        fig, ax = plt.subplots()\n",
    "        col = [\"JAAR_UITGAVE\"]\n",
    "        data = pd.read_csv('console.csv', usecols=col)\n",
    "        xUnique = num.unique(data)\n",
    "        count = data.value_counts()\n",
    "        y = []\n",
    "        for i in xUnique:\n",
    "            y.append(count.get(i))\n",
    "        \n",
    "        ax.pie(y, labels = xUnique, startangle = 90, autopct='%1.1f%%')\n",
    "\n",
    "        ax.set_title(\"Aantal console releases per jaar\")\n",
    "\n",
    "        # globalefunctie defined in het laatste codescherm\n",
    "        createWindow(fig)\n",
    "\n",
    "    def on_barButton(self):\n",
    "        fig, ax = plt.subplots()\n",
    "        col = [\"JAAR_UITGAVE\"]\n",
    "        data = pd.read_csv('console.csv', usecols=col)\n",
    "        xUnique = num.unique(data)\n",
    "        count = data.value_counts()\n",
    "        y = []\n",
    "        for i in xUnique:\n",
    "            y.append(count.get(i))\n",
    "\n",
    "        ax.bar(xUnique, y)\n",
    "        ax.set_ylabel(\"Aantal\")\n",
    "        ax.set_xlabel(\"Jaar\")\n",
    "        ax.set_title(\"Aantal console releases per jaar\")\n",
    "        \n",
    "        # globalefunctie defined in het laatste codescherm\n",
    "        createWindow(fig)\n"
   ]
  },
  {
   "cell_type": "code",
   "execution_count": 24,
   "metadata": {},
   "outputs": [
    {
     "data": {
      "image/png": "[encoded data removed]",
      "text/plain": [
       "<Figure size 640x480 with 1 Axes>"
      ]
     },
     "metadata": {},
     "output_type": "display_data"
    }
   ],
   "source": [
    "# global function\n",
    "def createWindow(figure):\n",
    "        diaFrame = tk.Tk()\n",
    "\n",
    "        canvas = FigureCanvasTkAgg(figure, diaFrame)\n",
    "        canvas.draw()\n",
    "\n",
    "        canvas.get_tk_widget().pack(side=tk.TOP, fill=tk.BOTH, expand=1)\n",
    "\n",
    "        tk.mainloop()     \n",
    "\n",
    "\n",
    "\n",
    "if __name__ == \"__main__\":\n",
    "    app = App()\n",
    "    app.mainloop()"
   ]
  }
 ],
 "metadata": {
  "kernelspec": {
   "display_name": "Python 3",
   "language": "python",
   "name": "python3"
  },
  "language_info": {
   "codemirror_mode": {
    "name": "ipython",
    "version": 3
   },
   "file_extension": ".py",
   "mimetype": "text/x-python",
   "name": "python",
   "nbconvert_exporter": "python",
   "pygments_lexer": "ipython3",
   "version": "3.10.6"
  },
  "orig_nbformat": 4,
  "vscode": {
   "interpreter": {
    "hash": "369f2c481f4da34e4445cda3fffd2e751bd1c4d706f27375911949ba6bb62e1c"
   }
  }
 },
 "nbformat": 4,
 "nbformat_minor": 2
}

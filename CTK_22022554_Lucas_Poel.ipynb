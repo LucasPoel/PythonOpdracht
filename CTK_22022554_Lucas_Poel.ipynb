{
 "cells": [
  {
   "attachments": {},
   "cell_type": "markdown",
   "metadata": {},
   "source": [
    "Nog een keer hetzelfde programma alleen deze keer maak ik het met CustomTkinter. Dat is een Python UI library based on Tkinter die een nieuw, modernere widgets heeft."
   ]
  },
  {
   "cell_type": "code",
   "execution_count": 5,
   "metadata": {},
   "outputs": [],
   "source": [
    "# import sys\n",
    "# !{sys.executable} -m pip install customtkinter"
   ]
  },
  {
   "cell_type": "code",
   "execution_count": 2,
   "metadata": {},
   "outputs": [],
   "source": [
    "import tkinter\n",
    "import customtkinter\n",
    "import numpy as num\n",
    "import pandas as pd\n",
    "import matplotlib.pyplot as plt\n",
    "from matplotlib.backends.backend_tkagg import FigureCanvasTkAgg"
   ]
  },
  {
   "cell_type": "code",
   "execution_count": 3,
   "metadata": {},
   "outputs": [],
   "source": [
    "import tkinter\n",
    "import customtkinter\n",
    "\n",
    "class Test():\n",
    "    def __init__(self):\n",
    "        customtkinter.set_appearance_mode(\"dark\")  # Modes: \"System\" (standard), \"Dark\", \"Light\"\n",
    "        customtkinter.set_default_color_theme(\"blue\")  # Themes: \"blue\" (standard), \"green\", \"dark-blue\"\n",
    "\n",
    "        app = customtkinter.CTk()\n",
    "        app.geometry(\"400x780\")\n",
    "        app.title(\"CustomTkinter simple_example.py\")\n",
    "\n",
    "\n",
    "        def button_callback():\n",
    "            print(\"Button click\", combobox_1.get())\n",
    "\n",
    "\n",
    "        def slider_callback(value):\n",
    "            progressbar_1.set(value)\n",
    "\n",
    "\n",
    "        frame_1 = customtkinter.CTkFrame(master=app)\n",
    "        frame_1.pack(pady=20, padx=60, fill=\"both\", expand=True)\n",
    "\n",
    "        label_1 = customtkinter.CTkLabel(master=frame_1, justify=tkinter.LEFT)\n",
    "        label_1.pack(pady=10, padx=10)\n",
    "\n",
    "        progressbar_1 = customtkinter.CTkProgressBar(master=frame_1)\n",
    "        progressbar_1.pack(pady=10, padx=10)\n",
    "\n",
    "        button_1 = customtkinter.CTkButton(master=frame_1, command=button_callback)\n",
    "        button_1.pack(pady=10, padx=10)\n",
    "\n",
    "        slider_1 = customtkinter.CTkSlider(master=frame_1, command=slider_callback, from_=0, to=1)\n",
    "        slider_1.pack(pady=10, padx=10)\n",
    "        slider_1.set(0.5)\n",
    "\n",
    "        entry_1 = customtkinter.CTkEntry(master=frame_1, placeholder_text=\"CTkEntry\")\n",
    "        entry_1.pack(pady=10, padx=10)\n",
    "\n",
    "        optionmenu_1 = customtkinter.CTkOptionMenu(frame_1, values=[\"Option 1\", \"Option 2\", \"Option 42 long long long...\"])\n",
    "        optionmenu_1.pack(pady=10, padx=10)\n",
    "        optionmenu_1.set(\"CTkOptionMenu\")\n",
    "\n",
    "        combobox_1 = customtkinter.CTkComboBox(frame_1, values=[\"Option 1\", \"Option 2\", \"Option 42 long long long...\"])\n",
    "        combobox_1.pack(pady=10, padx=10)\n",
    "        optionmenu_1.set(\"CTkComboBox\")\n",
    "\n",
    "        checkbox_1 = customtkinter.CTkCheckBox(master=frame_1)\n",
    "        checkbox_1.pack(pady=10, padx=10)\n",
    "\n",
    "        radiobutton_var = tkinter.IntVar(value=1)\n",
    "\n",
    "        radiobutton_1 = customtkinter.CTkRadioButton(master=frame_1, variable=radiobutton_var, value=1)\n",
    "        radiobutton_1.pack(pady=10, padx=10)\n",
    "\n",
    "        radiobutton_2 = customtkinter.CTkRadioButton(master=frame_1, variable=radiobutton_var, value=2)\n",
    "        radiobutton_2.pack(pady=10, padx=10)\n",
    "\n",
    "        switch_1 = customtkinter.CTkSwitch(master=frame_1)\n",
    "        switch_1.pack(pady=10, padx=10)\n",
    "\n",
    "        text_1 = customtkinter.CTkTextbox(master=frame_1, width=200, height=70)\n",
    "        text_1.pack(pady=10, padx=10)\n",
    "        text_1.insert(\"0.0\", \"CTkTextbox\\n\\n\\n\\n\")\n",
    "\n",
    "        segmented_button_1 = customtkinter.CTkSegmentedButton(master=frame_1, values=[\"CTkSegmentedButton\", \"Value 2\"])\n",
    "        segmented_button_1.pack(pady=10, padx=10)\n",
    "\n",
    "        tabview_1 = customtkinter.CTkTabview(master=frame_1, width=200, height=70)\n",
    "        tabview_1.pack(pady=10, padx=10)\n",
    "        tabview_1.add(\"CTkTabview\")\n",
    "        tabview_1.add(\"Tab 2\")\n",
    "\n",
    "        app.mainloop()\n",
    "\n",
    "\n",
    "x = Test()"
   ]
  },
  {
   "attachments": {},
   "cell_type": "markdown",
   "metadata": {},
   "source": [
    "CustomTkinter can adapt to the Windows 10/11 light or dark mode"
   ]
  }
 ],
 "metadata": {
  "kernelspec": {
   "display_name": "Python 3",
   "language": "python",
   "name": "python3"
  },
  "language_info": {
   "codemirror_mode": {
    "name": "ipython",
    "version": 3
   },
   "file_extension": ".py",
   "mimetype": "text/x-python",
   "name": "python",
   "nbconvert_exporter": "python",
   "pygments_lexer": "ipython3",
   "version": "3.10.6"
  },
  "orig_nbformat": 4,
  "vscode": {
   "interpreter": {
    "hash": "369f2c481f4da34e4445cda3fffd2e751bd1c4d706f27375911949ba6bb62e1c"
   }
  }
 },
 "nbformat": 4,
 "nbformat_minor": 2
}

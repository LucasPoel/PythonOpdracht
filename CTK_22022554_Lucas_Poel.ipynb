{
 "cells": [
  {
   "attachments": {},
   "cell_type": "markdown",
   "metadata": {},
   "source": [
    "Nog een keer hetzelfde programma alleen deze keer maak ik het met CustomTkinter. Dat is een Python UI library based on Tkinter die een nieuw, modernere widgets heeft."
   ]
  },
  {
   "cell_type": "code",
   "execution_count": 2,
   "metadata": {},
   "outputs": [
    {
     "name": "stdout",
     "output_type": "stream",
     "text": [
      "Collecting customtkinter\n",
      "  Downloading customtkinter-5.0.3-py3-none-any.whl (294 kB)\n",
      "     ------------------------------------- 294.0/294.0 kB 17.7 MB/s eta 0:00:00\n",
      "Collecting darkdetect\n",
      "  Downloading darkdetect-0.8.0-py3-none-any.whl (9.0 kB)\n",
      "Installing collected packages: darkdetect, customtkinter\n",
      "Successfully installed customtkinter-5.0.3 darkdetect-0.8.0\n"
     ]
    },
    {
     "name": "stderr",
     "output_type": "stream",
     "text": [
      "\n",
      "[notice] A new release of pip available: 22.2.1 -> 22.3.1\n",
      "[notice] To update, run: python.exe -m pip install --upgrade pip\n"
     ]
    }
   ],
   "source": [
    "import sys\n",
    "!{sys.executable} -m pip install customtkinter"
   ]
  },
  {
   "cell_type": "code",
   "execution_count": 8,
   "metadata": {},
   "outputs": [],
   "source": [
    "import tkinter\n",
    "import customtkinter\n",
    "\n",
    "customtkinter.set_appearance_mode(\"Dark\")  # Modes: system (default), light, dark\n",
    "customtkinter.set_default_color_theme(\"green\")  # Themes: blue (default), dark-blue, green\n",
    "\n",
    "app = customtkinter.CTk()  # create CTk window like you do with the Tk window\n",
    "app.geometry(\"400x240\")\n",
    "\n",
    "def button_function():\n",
    "    print(\"button pressed\")\n",
    "\n",
    "\n",
    "# Use CTkButton instead of tkinter Button\n",
    "button = customtkinter.CTkButton(master=app, text=\"CTkButton\", command=button_function)\n",
    "button.place(relx=0.5, rely=0.5, anchor=tkinter.CENTER)\n",
    "\n",
    "app.mainloop()"
   ]
  },
  {
   "attachments": {},
   "cell_type": "markdown",
   "metadata": {},
   "source": [
    "CustomTkinter can adapt to the Windows 10/11 light or dark mode"
   ]
  }
 ],
 "metadata": {
  "kernelspec": {
   "display_name": "Python 3",
   "language": "python",
   "name": "python3"
  },
  "language_info": {
   "codemirror_mode": {
    "name": "ipython",
    "version": 3
   },
   "file_extension": ".py",
   "mimetype": "text/x-python",
   "name": "python",
   "nbconvert_exporter": "python",
   "pygments_lexer": "ipython3",
   "version": "3.10.6"
  },
  "orig_nbformat": 4,
  "vscode": {
   "interpreter": {
    "hash": "369f2c481f4da34e4445cda3fffd2e751bd1c4d706f27375911949ba6bb62e1c"
   }
  }
 },
 "nbformat": 4,
 "nbformat_minor": 2
}

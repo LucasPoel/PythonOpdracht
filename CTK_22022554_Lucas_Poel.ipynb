{
 "cells": [
  {
   "attachments": {},
   "cell_type": "markdown",
   "metadata": {},
   "source": [
    "Nog een keer hetzelfde programma alleen deze keer maak ik het met CustomTkinter. Dat is een Python UI library based on Tkinter die een nieuw, modernere widgets heeft."
   ]
  },
  {
   "cell_type": "code",
   "execution_count": 69,
   "metadata": {},
   "outputs": [],
   "source": [
    "# import sys\n",
    "# !{sys.executable} -m pip install customtkinter"
   ]
  },
  {
   "cell_type": "code",
   "execution_count": 70,
   "metadata": {},
   "outputs": [],
   "source": [
    "import tkinter\n",
    "import customtkinter\n",
    "import numpy as num\n",
    "import pandas as pd\n",
    "import matplotlib.pyplot as plt\n",
    "from matplotlib.backends.backend_tkagg import FigureCanvasTkAgg"
   ]
  },
  {
   "cell_type": "code",
   "execution_count": 71,
   "metadata": {},
   "outputs": [],
   "source": [
    "class App():\n",
    "    def __init__(self):\n",
    "        customtkinter.set_appearance_mode(\"dark\")  # Modes: \"System\" (standard), \"Dark\", \"Light\"\n",
    "        customtkinter.set_default_color_theme(\"blue\")  # Themes: \"blue\" (standard), \"green\", \"dark-blue\"\n",
    "\n",
    "        self.app = customtkinter.CTk()\n",
    "        self.app.geometry(\"400x400\")\n",
    "        self.app.title(\"DataVisualisation App voor Biker\")\n",
    "        \n",
    "        self.loginAttempts = 0\n",
    "        self.createLogin()\n",
    "        \n",
    "        # wanneer de windows word gesloten sluit hij ook het programma.\n",
    "        self.app.protocol(\"WM_DELETE_WINDOW\", self.closeApp)\n",
    "        \n",
    "\n",
    "    def loginCheck(self):\n",
    "        # gelezen logingegevens... Super Secure!!!\n",
    "        creds = pd.read_csv('logingegevens.csv')\n",
    "\n",
    "        # omzetten naar 2D array. [[username, password], [username, password], enz..]\n",
    "        credsArr = creds.to_numpy()\n",
    "\n",
    "        # check login input\n",
    "        self.username = self.usernameEntry.get()\n",
    "        self.password = self.passwordEntry.get()\n",
    "\n",
    "        # loop series van namen en ww\n",
    "        for arr in credsArr:\n",
    "            # subset van naam en ww\n",
    "            if arr[0] == self.username:\n",
    "                if arr[1] == self.password:\n",
    "                    # username en password zijn correct\n",
    "                    self.loginOut(True)\n",
    "                    return\n",
    "        \n",
    "        self.loginOut(False)\n",
    "                \n",
    "    def loginOut(self, out):\n",
    "        if out == True:\n",
    "            m = Main()\n",
    "            m.main.mainloop()\n",
    "            self.closeApp()\n",
    "\n",
    "        # login pogingen staat op 2. de user heeft namelijk maar 3 pogingen.\n",
    "        if self.loginAttempts >= 2 and out == False:\n",
    "            # de reden voor and out == False is omdat als de user 2 keer zijn wachtwoord fout invult en daarna correct triggert hij ook als de 2e conditie er niet staat\n",
    "            e = ErrorWindow(reden=\"WW\")\n",
    "            e.window.mainloop()\n",
    "            self.closeApp()\n",
    "            \n",
    "        elif out == False:\n",
    "            self.loginAttempts = self.loginAttempts + 1\n",
    "            label = customtkinter.CTkLabel(master=self.loginWindow, text=f'Logingegevens zijn incorrect.')\n",
    "            label.pack()\n",
    "\n",
    "            labelMessage = customtkinter.CTkLabel(master=self.loginWindow, text=f'Dit is poging {self.loginAttempts}. u heeft nog {3- self.loginAttempts} pogingen')\n",
    "            labelMessage.pack()\n",
    "    \n",
    "    def closeApp(self):\n",
    "        self.app.quit()\n",
    "        self.app.destroy()\n",
    "\n",
    "    def startApp(self):\n",
    "        self.app.mainloop()\n",
    "\n",
    "\n",
    "    def createLogin(self):\n",
    "        self.loginWindow = customtkinter.CTkFrame(master=self.app)\n",
    "        self.loginWindow.pack(pady=20, padx=60, fill=\"both\", expand=True)\n",
    "\n",
    "        self.usernameEntry = customtkinter.CTkEntry(master=self.loginWindow, placeholder_text=\"Please enter your username:\")\n",
    "        self.usernameEntry.pack(pady=10, padx=10)\n",
    "\n",
    "        self.passwordEntry = customtkinter.CTkEntry(master=self.loginWindow, placeholder_text=\"Please enter your password\", show=\"*\")\n",
    "        self.passwordEntry.pack()\n",
    "\n",
    "        self.button_1 = customtkinter.CTkButton(master=self.loginWindow, text=\"Login!\", command=self.loginCheck)\n",
    "        self.button_1.pack(pady=10, padx=10)\n",
    "        \n",
    "        self.close = customtkinter.CTkButton(master=self.loginWindow, text=\"Afsluiten\", command=self.closeApp)\n",
    "        self.close.pack()\n",
    "\n"
   ]
  },
  {
   "cell_type": "code",
   "execution_count": 72,
   "metadata": {},
   "outputs": [],
   "source": [
    "class Main():\n",
    "    def __init__(self):\n",
    "        self.main = customtkinter.CTk()\n",
    "        self.main.geometry(\"600X800\")\n",
    "        self.createFrames()\n",
    "\n",
    "        # wanneer de windows word gesloten sluit hij ook het programma.\n",
    "        self.main.protocol(\"WM_DELETE_WINDOW\", self.closeApp)\n",
    "\n",
    "    def createFrames(self):\n",
    "        self.frameSide = customtkinter.CTkFrame(master=self.main)\n",
    "        self.frameSide.pack(expand=False, side=\"left\", fill=\"y\", ipadx=100, ipady=400)\n",
    "        self.fillFrameSide()\n",
    "\n",
    "        self.frameMain = customtkinter.CTkFrame(master=self.main)\n",
    "        self.frameMain.pack(expand=True, side=\"right\", fill=\"y\", ipadx=500, ipady=400)\n",
    "        self.fillFrameMain()\n",
    "\n",
    "    def fillFrameSide(self):\n",
    "        self.options = customtkinter.CTkFrame(master=self.frameSide)\n",
    "        # .pack(fill=\"none\", expand=True) => centers widget! options aangemaakt voor style om de options te centeren in de sideFrame\n",
    "        self.options.pack(fill=\"none\", expand=True)\n",
    "        self.label = customtkinter.CTkLabel(master=self.options, text=\"Kies hieronder data dat je wilt zien\")\n",
    "        # .pack(fill=\"none\", expand=True) => centers widget!\n",
    "        self.label.pack(fill=\"none\", expand=True)\n",
    "\n",
    "        self.artikelButton = customtkinter.CTkButton(master=self.options, text=\"Verdeling van artikelen\", command=self.onArtikelButton)\n",
    "        self.artikelButton.pack()\n",
    "\n",
    "    # mainFrame word gevult opn basis van de keuzes links!\n",
    "    def fillFrameMain(self):\n",
    "        self.startComponents = []\n",
    "        self.label = customtkinter.CTkLabel(master=self.frameMain, text=\"Maak een keuze in het menu links!\")\n",
    "        self.label.pack()\n",
    "        \n",
    "        self.startComponents.append(self.label)\n",
    "\n",
    "    # button functions\n",
    "    def onArtikelButton(self):\n",
    "        self.label = customtkinter.CTkLabel(master=self.frameMain, text=\"Artikel werkt\")\n",
    "        self.label.pack()\n",
    "        self.destroyStartMain()\n",
    "    \n",
    "    def destroyStartMain(self):\n",
    "        for component in self.startComponents:\n",
    "            component.destroy()\n",
    "\n",
    "    def closeApp(self):\n",
    "        self.main.quit()\n",
    "        self.main.destroy()\n"
   ]
  },
  {
   "attachments": {},
   "cell_type": "markdown",
   "metadata": {},
   "source": [
    "Ik heb destroyStartMain() toegevoegd omdat zodra de user een keuze maakt in het keuzemenu moet main leeg zijn en nieuwe data komen obv de keuze. zie comments over de werking.  <br>\n",
    "De array self.startComponents word gevuld met alle componenten die aanwezig zijn voordat een keuze word gemaakt. de functie destroyStartMain() loopt dan door alle componenten en .destroy() op alle componenten. <br>\n",
    "\n",
    "```\n",
    "def destroyStartMain(self):\n",
    "        for component in self.startComponents:\n",
    "            component.destroy()\n",
    "```\n"
   ]
  },
  {
   "cell_type": "code",
   "execution_count": 73,
   "metadata": {},
   "outputs": [],
   "source": [
    "class ErrorWindow():\n",
    "    def __init__(self, reden):\n",
    "        self.reden = reden\n",
    "        self.window = customtkinter.CTk()\n",
    "\n",
    "        if self.reden == \"WW\":\n",
    "            self.message = \"U heeft 3 keer de verkeerde logingegevens ingevuld. De applicatie sluit nu.\"\n",
    "        else:\n",
    "            self.message = \"Error is unknown\"            \n",
    "\n",
    "        errorMessage = customtkinter.CTkLabel(master=self.window, text=self.message)\n",
    "        errorMessage.pack()\n",
    "\n",
    "        # wanneer de windows word gesloten sluit hij ook het programma.\n",
    "        self.window.protocol(\"WM_DELETE_WINDOW\", self.closeApp)\n",
    "\n",
    "\n",
    "    def closeApp(self):\n",
    "        self.window.quit()\n",
    "        self.window.destroy()\n"
   ]
  },
  {
   "cell_type": "code",
   "execution_count": 74,
   "metadata": {},
   "outputs": [],
   "source": [
    "x = App()\n",
    "x.startApp()\n"
   ]
  },
  {
   "attachments": {},
   "cell_type": "markdown",
   "metadata": {},
   "source": [
    "Er is een soort van bug met CTK dat het programma blijft runnen wanneer de app is gesloten. Dit komt omdat de window van zichzelf op state: withdrawn springt zodra CTK met eigen aanpassingen een TK window aanmaakt. Hier is nog geen oplossing voor... dus het programma moet handmatig gesloten worden door op het stopteken te klikken"
   ]
  },
  {
   "cell_type": "code",
   "execution_count": 76,
   "metadata": {},
   "outputs": [],
   "source": [
    "# FOR TESTING\n",
    "x = Main()\n",
    "x.main.mainloop()"
   ]
  }
 ],
 "metadata": {
  "kernelspec": {
   "display_name": "Python 3",
   "language": "python",
   "name": "python3"
  },
  "language_info": {
   "codemirror_mode": {
    "name": "ipython",
    "version": 3
   },
   "file_extension": ".py",
   "mimetype": "text/x-python",
   "name": "python",
   "nbconvert_exporter": "python",
   "pygments_lexer": "ipython3",
   "version": "3.10.6"
  },
  "orig_nbformat": 4,
  "vscode": {
   "interpreter": {
    "hash": "369f2c481f4da34e4445cda3fffd2e751bd1c4d706f27375911949ba6bb62e1c"
   }
  }
 },
 "nbformat": 4,
 "nbformat_minor": 2
}

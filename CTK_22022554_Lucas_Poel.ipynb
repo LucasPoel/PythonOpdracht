{
 "cells": [
  {
   "attachments": {},
   "cell_type": "markdown",
   "metadata": {},
   "source": [
    "Nog een keer hetzelfde programma alleen deze keer maak ik het met CustomTkinter. Dat is een Python UI library based on Tkinter die een nieuw, modernere widgets heeft."
   ]
  },
  {
   "cell_type": "code",
   "execution_count": 1,
   "metadata": {},
   "outputs": [],
   "source": [
    "# import sys\n",
    "# !{sys.executable} -m pip install customtkinter"
   ]
  },
  {
   "cell_type": "code",
   "execution_count": 4,
   "metadata": {},
   "outputs": [],
   "source": [
    "import tkinter\n",
    "import customtkinter\n",
    "import numpy as num\n",
    "import pandas as pd\n",
    "import matplotlib.pyplot as plt\n",
    "from matplotlib.backends.backend_tkagg import FigureCanvasTkAgg"
   ]
  },
  {
   "cell_type": "code",
   "execution_count": 12,
   "metadata": {},
   "outputs": [],
   "source": [
    "import tkinter\n",
    "import customtkinter\n",
    "\n",
    "class App():\n",
    "    def __init__(self):\n",
    "        customtkinter.set_appearance_mode(\"dark\")  # Modes: \"System\" (standard), \"Dark\", \"Light\"\n",
    "        customtkinter.set_default_color_theme(\"blue\")  # Themes: \"blue\" (standard), \"green\", \"dark-blue\"\n",
    "\n",
    "        app = customtkinter.CTk()\n",
    "        app.geometry(\"400x400\")\n",
    "        app.title(\"DataVisualisation App voor Biker\")\n",
    "\n",
    "\n",
    "        def loginCheck():\n",
    "            # gelezen logingegevens... Super Secure!!!\n",
    "            creds = pd.read_csv('logingegevens.csv')\n",
    "\n",
    "            # omzetten naar 2D array. [[username, password], [username, password], enz..]\n",
    "            credsArr = creds.to_numpy()\n",
    "\n",
    "            # check login input\n",
    "            self.username = usernameEntry.get()\n",
    "            self.password = passwordEntry.get()\n",
    "\n",
    "            # loop series van namen en ww\n",
    "            for arr in credsArr:\n",
    "                # subset van naam en ww\n",
    "                if arr[0] == self.username:\n",
    "                    if arr[1] == self.password:\n",
    "                        loginOut(True)\n",
    "                        return\n",
    "            \n",
    "            loginOut(False)\n",
    "                \n",
    "        def loginOut(out):\n",
    "            if out == True:\n",
    "                # TODO start real app\n",
    "                label = customtkinter.CTkLabel(master=loginWindow, text=\"Login correct\")\n",
    "                label.pack()\n",
    "            elif out == False:\n",
    "                label = customtkinter.CTkLabel(master=loginWindow, text=\"Login False\")\n",
    "                label.pack()\n",
    "\n",
    "\n",
    "        loginWindow = customtkinter.CTkFrame(master=app)\n",
    "        loginWindow.pack(pady=20, padx=60, fill=\"both\", expand=True)\n",
    "\n",
    "        usernameEntry = customtkinter.CTkEntry(master=loginWindow, placeholder_text=\"Please enter your username:\")\n",
    "        usernameEntry.pack(pady=10, padx=10)\n",
    "\n",
    "        passwordEntry = customtkinter.CTkEntry(master=loginWindow, placeholder_text=\"Please enter your password\", show=\"*\")\n",
    "        passwordEntry.pack()\n",
    "\n",
    "        button_1 = customtkinter.CTkButton(master=loginWindow, text=\"Login!\", command=loginCheck)\n",
    "        button_1.pack(pady=10, padx=10)\n",
    "\n",
    "        app.mainloop()\n"
   ]
  },
  {
   "cell_type": "code",
   "execution_count": null,
   "metadata": {},
   "outputs": [],
   "source": [
    "class Main()\n",
    "    def __init__():\n",
    "        main = customtkinter.CTk()\n",
    "        main.geometry(\"600X800\")\n",
    "        frameSide = customtkinter.CTkFrame(master=Main)"
   ]
  },
  {
   "cell_type": "code",
   "execution_count": null,
   "metadata": {},
   "outputs": [],
   "source": [
    "x = App()"
   ]
  },
  {
   "attachments": {},
   "cell_type": "markdown",
   "metadata": {},
   "source": [
    "CustomTkinter can adapt to the Windows 10/11 light or dark mode"
   ]
  }
 ],
 "metadata": {
  "kernelspec": {
   "display_name": "Python 3",
   "language": "python",
   "name": "python3"
  },
  "language_info": {
   "codemirror_mode": {
    "name": "ipython",
    "version": 3
   },
   "file_extension": ".py",
   "mimetype": "text/x-python",
   "name": "python",
   "nbconvert_exporter": "python",
   "pygments_lexer": "ipython3",
   "version": "3.11.1"
  },
  "orig_nbformat": 4,
  "vscode": {
   "interpreter": {
    "hash": "c587b0ea449d242d06c3289ab774be91f647ea7ceaedec8ccaa3e4170894fb58"
   }
  }
 },
 "nbformat": 4,
 "nbformat_minor": 2
}

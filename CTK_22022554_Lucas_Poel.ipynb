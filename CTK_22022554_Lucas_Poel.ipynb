{
 "cells": [
  {
   "attachments": {},
   "cell_type": "markdown",
   "metadata": {},
   "source": [
    "Nog een keer hetzelfde programma alleen deze keer maak ik het met CustomTkinter. Dat is een Python UI library based on Tkinter die een nieuw, modernere widgets heeft."
   ]
  },
  {
   "cell_type": "code",
   "execution_count": 1,
   "metadata": {},
   "outputs": [],
   "source": [
    "# import sys\n",
    "# !{sys.executable} -m pip install customtkinter"
   ]
  },
  {
   "cell_type": "code",
   "execution_count": 3,
   "metadata": {},
   "outputs": [
    {
     "name": "stdout",
     "output_type": "stream",
     "text": [
      "button pressed\n",
      "[2004 2011 2013 2014 2015 2016 2017]\n"
     ]
    }
   ],
   "source": [
    "import tkinter\n",
    "import customtkinter\n",
    "import numpy as num\n",
    "import pandas as pd\n",
    "import matplotlib.pyplot as plt\n",
    "from matplotlib.backends.backend_tkagg import FigureCanvasTkAgg\n",
    "\n",
    "customtkinter.set_appearance_mode(\"Dark\")  # Modes: system (default), light, dark\n",
    "customtkinter.set_default_color_theme(\"green\")  # Themes: blue (default), dark-blue, green\n",
    "\n",
    "app = customtkinter.CTk()  # create CTk window like you do with the Tk window\n",
    "app.geometry(\"400x240\")\n",
    "\n",
    "def button_function():\n",
    "    print(\"button pressed\")\n",
    "    fig, ax = plt.subplots()\n",
    "    col = [\"JAAR_UITGAVE\"]\n",
    "    data = pd.read_csv('console.csv', usecols=col)\n",
    "    xUnique = num.unique(data)\n",
    "    count = data.value_counts()\n",
    "    y = []\n",
    "    print(xUnique)\n",
    "    for i in xUnique:\n",
    "        y.append(count.get(i))\n",
    "\n",
    "    ax.bar(xUnique, y)\n",
    "    ax.set_ylabel(\"Aantal\")\n",
    "    ax.set_xlabel(\"Jaar\")\n",
    "    ax.set_title(\"Aantal console releases per jaar\")\n",
    "        \n",
    "        # globalefunctie defined in het laatste codescherm\n",
    "    createWindow(fig)\n",
    "\n",
    "def createWindow(figure):\n",
    "        diaFrame = customtkinter.CTk()\n",
    "\n",
    "        canvas = FigureCanvasTkAgg(figure, diaFrame)\n",
    "        canvas.draw()\n",
    "\n",
    "        canvas.get_tk_widget().pack(side=customtkinter.TOP, fill=customtkinter.BOTH, expand=1)\n",
    "\n",
    "        diaFrame.mainloop()\n",
    " \n",
    "\n",
    "\n",
    "\n",
    "# Use CTkButton instead of tkinter Button\n",
    "button = customtkinter.CTkButton(master=app, text=\"CTkButton\", command=button_function)\n",
    "button.place(relx=0.5, rely=0.5, anchor=tkinter.CENTER)\n",
    "\n",
    "app.mainloop()"
   ]
  },
  {
   "attachments": {},
   "cell_type": "markdown",
   "metadata": {},
   "source": [
    "CustomTkinter can adapt to the Windows 10/11 light or dark mode"
   ]
  }
 ],
 "metadata": {
  "kernelspec": {
   "display_name": "Python 3",
   "language": "python",
   "name": "python3"
  },
  "language_info": {
   "codemirror_mode": {
    "name": "ipython",
    "version": 3
   },
   "file_extension": ".py",
   "mimetype": "text/x-python",
   "name": "python",
   "nbconvert_exporter": "python",
   "pygments_lexer": "ipython3",
   "version": "3.10.6"
  },
  "orig_nbformat": 4,
  "vscode": {
   "interpreter": {
    "hash": "369f2c481f4da34e4445cda3fffd2e751bd1c4d706f27375911949ba6bb62e1c"
   }
  }
 },
 "nbformat": 4,
 "nbformat_minor": 2
}

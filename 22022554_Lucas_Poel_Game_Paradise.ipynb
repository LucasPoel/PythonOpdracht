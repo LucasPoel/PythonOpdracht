{
 "cells": [
  {
   "cell_type": "code",
   "execution_count": null,
   "metadata": {},
   "outputs": [],
   "source": [
    "import numpy as num\n",
    "import pandas as pd\n",
    "import csv\n",
    "import matplotlib as plot"
   ]
  },
  {
   "attachments": {},
   "cell_type": "markdown",
   "metadata": {},
   "source": [
    "Hierboven de import statements die ik nodig heb om dit programma te runnen."
   ]
  },
  {
   "cell_type": "code",
   "execution_count": 8,
   "metadata": {},
   "outputs": [
    {
     "name": "stdout",
     "output_type": "stream",
     "text": [
      "Hallo\n",
      "aantal werkt\n"
     ]
    }
   ],
   "source": [
    "def startDialogue():\n",
    "    print(\"Hallo\")\n",
    "    return input(\"Wil je een diagram zien over de verdeling van consoles en spellen of over een trendline over aantal consoles per uitgave jaar. Vul in verdeling of aantal?\")\n",
    "\n",
    "def checkDialogue(req):\n",
    "    while req != False:\n",
    "        if req == \"aantal\":\n",
    "            print(\"aantal werkt\")\n",
    "            break\n",
    "\n",
    "        elif req == \"verdeling\":\n",
    "            print(\"verdeling werkt\")\n",
    "            break\n",
    "        print(\"foute input\")\n",
    "        break\n",
    "\n",
    "checkDialogue(startDialogue())"
   ]
  }
 ],
 "metadata": {
  "kernelspec": {
   "display_name": "Python 3",
   "language": "python",
   "name": "python3"
  },
  "language_info": {
   "codemirror_mode": {
    "name": "ipython",
    "version": 3
   },
   "file_extension": ".py",
   "mimetype": "text/x-python",
   "name": "python",
   "nbconvert_exporter": "python",
   "pygments_lexer": "ipython3",
   "version": "3.10.6"
  },
  "orig_nbformat": 4,
  "vscode": {
   "interpreter": {
    "hash": "37083a178839ddb6837eca99e3841ef7be6dad5dc50c6d19829e2187d61ddd5d"
   }
  }
 },
 "nbformat": 4,
 "nbformat_minor": 2
}
